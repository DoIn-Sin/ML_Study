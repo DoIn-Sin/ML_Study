{
 "cells": [
  {
   "cell_type": "code",
   "execution_count": 19,
   "metadata": {},
   "outputs": [],
   "source": [
    "import pandas as pd\n",
    "import numpy as np"
   ]
  },
  {
   "cell_type": "markdown",
   "metadata": {},
   "source": [
    "# KNN 알고리즘"
   ]
  },
  {
   "cell_type": "markdown",
   "metadata": {},
   "source": [
    "# 1. 정의"
   ]
  },
  {
   "cell_type": "code",
   "execution_count": null,
   "metadata": {},
   "outputs": [],
   "source": [
    "'''\n",
    "knn 알고리즘은 지도 학습에 한 종류로 거리기반 분류분석 모델이라고 할 수 있다.\n",
    "기존 관측치인 y값(class)가 존재한다는 점에서 비지도 학습인 '클러스터링(clustering)(=군집화)과의 차이가 있다\n",
    "\n",
    "knn 알고리즘은 데이터로부터 거리가 가까운 k개의 다른 데이터의 레이블을 참조하여 분류하는 알고리즘으로\n",
    "거리를 측정할 때 /('유클리디안 거리 계산법')/ 을 사용한다\n",
    "    - /( 유클리디안 거리 계산법이란 피타고라스의 정리를 생각하면된다. )/\n",
    "\n",
    "knn의 다른 이름으로는 게으른 학습 이라고 할수 있다.\n",
    "다른 머신러닝의 알고리즘의 경우 학습 데이터를 가지고 훈련을 통해 모델을 생성하는 반면\n",
    "knn의 알고리즘은 훈련 데이터를 그대로 가지고만 있는다 그래서 훈련 단계가 아주 빠르게 일어난다\n",
    "\n",
    "knn은 간단한 알고리즘이지만 \n",
    "/( 이미지 처리, 영상에서 글자 인식과 얼굴 인식, 영화난 음악, 상품 추천에 대한 개인별 선호 예측, 의료, 유전자 데이터의 패턴 인식 )/\n",
    "등 많은 분야에 사용하고있다\n",
    "\n",
    "1 . k란 \n",
    "    가장 가까운 이웃 '하나'가 아니라 \n",
    "    훈련 데이터에서 \n",
    "    새로운 데이터 포인터에\n",
    "    가장 가까운 k개를 찾는다는 뜻이다.\n",
    "        ex) 가장 가까운 세 개 혹은 다섯 개의 이웃\n",
    "            그런 다음 이 이웃들의 클래스 중\n",
    "            빈도가 가장 높은 클래스를 예측값으로 사용한다\n",
    "\n",
    "2. 사이킷런의 모든 머신러닝 모델은\n",
    "   estimatoy라는 파이썬 클래스로 각각 구현되어있다.\n",
    "\n",
    "   knn은 neighbors 모듈 아래 KNeighborsClassifier 클래스에 구현되어 있다.\n",
    "   모델을 사용하려면 객체를 만들어야한다.\n",
    "\n",
    "   KNeighborsClassifier에서 가장 중요한 매개변수는 이웃의 개수 입니다.\n",
    "\n",
    "\n",
    "3. knn객체는 훈련 데이터로 모델을 만들고\n",
    "  새로운 데이터 포인트에 대해 \n",
    "  예측하는 알고리즘을 캡슐화한 것이다.\n",
    "  알고리즘이 훈련 데이터로부터 추출한 정보를 담고 있다.\n",
    "  KNeighborsClassifier의 경우는 훈련 데이터 자체를 저장하고 있다.\n",
    "\n",
    "  훈련 데이터셋으로부터 모델을 만드려면 knn 객체의 fit메서드를 사용해야한다.\n",
    "\n",
    "  훈련데이터인 numpy배열 X_train과 훈련 데이터의 레이블을 담고 있는 numpy 배열 y_train을 매개변수로 받는다\n",
    "\n",
    "  fit 메서드는 knn객체 자체를 반환한다.\n",
    "  그래서 knn 객체가 문자열 형태로 출력된다.\n",
    "\n",
    "'''"
   ]
  },
  {
   "cell_type": "markdown",
   "metadata": {},
   "source": [
    "## 1.1. KNN의 사용"
   ]
  },
  {
   "cell_type": "code",
   "execution_count": null,
   "metadata": {},
   "outputs": [],
   "source": [
    "''' KNN의 사용\n",
    "k-NN 알고리즘을 활용한 단기 교통상황 예측: 서울시 도시고속도로 사례\n",
    "K 최대근접이웃 방법을 이용한 통행시간 예측에 대한 연구\n",
    "도시가스 일일수요의 단기예측\n",
    "\n",
    "1. 이미지와 비디오로 구성된 광학적 문자 인식(OCR)과 안면인식을 포함한 컴퓨터 비전응용 분야\n",
    "2. 사용자가 추천 받은 영화에 대한 선호도 예측(Netflix사)\n",
    "3. 특정한 단백질 또는 질병 발견을 위한 유전적 데이터 패턴 확인 \n",
    "\n",
    "일반적으로 최근접이웃 분류방식은 속성들과 목표클래스들의 관계가 많고, \n",
    "복잡하며 또는 매우 이해하기 힘들지만 비슷한 클래스 타입의 항목들은 꽤 [동질적인 경향]을 보일 때 아주 적합하다 \n",
    "한편, 그룹 간에 명확한 차이가 없으면 이 알고리즘은 대체로 그룹 간 경계를 구분하는데 효과적이지 못하다.\n",
    "'''"
   ]
  },
  {
   "cell_type": "markdown",
   "metadata": {},
   "source": [
    "# 2. 간단한 동작원리"
   ]
  },
  {
   "cell_type": "code",
   "execution_count": null,
   "metadata": {},
   "outputs": [],
   "source": [
    "'''\n",
    "\n",
    "단순히 훈련 데이터를 저장하여 만들어짐\n",
    "\n",
    "1. 새로운 데이터 포인트에 대한 예측이 필요하면 \n",
    "2. 알고리즘은 새 데이터 포인트에서\n",
    "3. 가장 가까운 훈련 데이터\n",
    "4. 포인트를 찾습니다.\n",
    "5. 그런 다음 찾은 훈련 데이터의 레이블을 \n",
    "6. 새 데이터 포인트의 레이블로 지정합니다.\n",
    "\n",
    "\n",
    "\n",
    "knn알고리즘은 판별하고 싶은 데이터와 인접한 k개수의 데이터를 찾아 해당 데이터의 라벨이 다수인 범주로 데이터를 분류 하는 방식이다\n",
    "\n",
    "ex) 1. 김바바나 2. 김오렌지\n",
    "\n",
    "d는 어디에 분류 하여야 하는가?\n",
    "k = 3 ( 내가 찾고자 하는 대상에 인접한 요소의 개수를 지정)\n",
    "\n",
    "a = 김바바나\n",
    "b = 김오렌지\n",
    "c = 김오렌지\n",
    "\n",
    "d는 가장 많은 라벨이 속한 김오렌지로 분류를 하게된다.\n",
    "\n",
    "k개의 개수는 홀수로 정하는 것이 좋다\n",
    "만약 김오렌지와 김바바나가 2:2 동률이 되는 상황이 오게되면\n",
    "분류를 할 수가 없는 상황이 밣생하게된다\n",
    "\n",
    "'''"
   ]
  },
  {
   "cell_type": "markdown",
   "metadata": {},
   "source": [
    "# 3. KNN의 장점과 단점"
   ]
  },
  {
   "cell_type": "markdown",
   "metadata": {},
   "source": [
    "## 3.1. 장점"
   ]
  },
  {
   "cell_type": "code",
   "execution_count": null,
   "metadata": {},
   "outputs": [],
   "source": [
    "'''\n",
    "\n",
    "knn의 장점\n",
    "1. 단순하고 효율적이다\n",
    "# 기저 데이터 분포에 대한 가정을 하지 않는다\n",
    "2. 훈련 단계가 빠르다\n",
    "3. 수치 기반 데이터 분류 작업에서 성능이 우수하다\n",
    "\n",
    "'''"
   ]
  },
  {
   "cell_type": "markdown",
   "metadata": {},
   "source": [
    "## 3.2 단점"
   ]
  },
  {
   "cell_type": "code",
   "execution_count": null,
   "metadata": {},
   "outputs": [],
   "source": [
    "'''\n",
    "\n",
    "knn의 단점\n",
    "1. 모델을 생성하지 않아 특징과 클래스 간 관계를 이해하는데 제한적이다.\n",
    "2. 적절한 k값의 선택이 필요하다\n",
    "3. 데이터가 많아지면 분류 단계가 느려진다.\n",
    "4. 명목 특징 및 누락 데이터를 위한 추가 처리가 필요하다\n",
    "( 더미 코딩을 통해 수치 형식으로 변화하는 작업이 필요하다 )\n",
    "\n",
    "더미 코딩이란. 명목 특징을 수치 형식으로 변환\n",
    "유클리드 거리 공식은 명목데이터에 정의되지 않으므로, 수치형식으로 변환할 필요가 있다.\n",
    "이를 위한 방법이 더미 코딩을 활용할수 있다.\n",
    "\n",
    "'''"
   ]
  },
  {
   "cell_type": "markdown",
   "metadata": {},
   "source": [
    "# 4. 사용 시 주의사항"
   ]
  },
  {
   "cell_type": "code",
   "execution_count": null,
   "metadata": {},
   "outputs": [],
   "source": [
    "'''\n",
    "\n",
    "knn알고리즘을 사용할 때의 주의할 점\n",
    "/( 'knn알고리즘과 같이 거리기반 모델의 경우 표준화가 필요하다.' )/\n",
    "a(김오렌지)와 b(김바바나)의 분포가 다른데 이렇게 분포가 다르면 각 변수의 차이를 해석하기가 어렵다.\n",
    "변수 값을 표준 범위로 재조정하기 위해 정규화를 적용한다\n",
    "\n",
    "/( 'knn알고리즘과 같이 거리기반 모델의 경우 표준화가 필요하다.' )/\n",
    "a(김오렌지)와 b(김바바나)의 범위의 차이가 더욱 클수록 더 많은 영향을 끼친다.\n",
    "\n",
    "'''"
   ]
  },
  {
   "cell_type": "code",
   "execution_count": null,
   "metadata": {},
   "outputs": [],
   "source": [
    "''' \n",
    "최소-최대 정규화\n",
    "    - 변수 x의 범위를 0%에서 100% 까지로 나타낸다\n",
    "\n",
    "z-점수 표준화\n",
    "    - 변수 x의 범위를 평균의 위 또는 아래로 몇 표준 편차만큼 떨어져 있는지 관점으로 확대/축소\n",
    "\n",
    "실무에서는 z-점수 표준화를 많이 사용한다.\n",
    "\n",
    "훈련 데이터셋에서 최소-최대 정규화를 사용하면 예측할 데이터셋에서 최솟값과 최대값이 이 범위를 벗어나는 경우가 생기기때문이다.\n",
    "'''"
   ]
  },
  {
   "cell_type": "markdown",
   "metadata": {},
   "source": [
    "# 5. 2차 정리"
   ]
  },
  {
   "cell_type": "code",
   "execution_count": null,
   "metadata": {},
   "outputs": [],
   "source": [
    "''' \n",
    "\n",
    "knn에서의 훈련 데이터\n",
    "1. 훈련 데이터는 \n",
    "2. 각각이 항목 분류명을 갖는\n",
    "3. 다차원 특징 공간에서의 벡터이다.\n",
    "\n",
    "knn에서의 알고리즘 훈련 단계\n",
    "1. 알고리즘의 훈련 단계는\n",
    "2. 오직 훈련 표본의 특징 벡터와\n",
    "3. 항목 분류명을 저장하는 것이다.\n",
    "\n",
    "knn의 사용\n",
    "1. 분류 단계에서 k는 사용자 정의 상수이고 \n",
    "    ex) k = 3 \n",
    "2. 분류명이 붙지 않은 벡터(질의 또는 검증점)는 \n",
    "    ex) 1. 김바바나 2. 김오렌지\n",
    "        a = 김바바나\n",
    "        b = 김오렌지\n",
    "        c = 김오렌지\n",
    "        분류명이 붙지 않은 벡터 = d라는 요소\n",
    "3. k개의 훈련 표본 사이에서 가장 빈번한 분류명을 할당함으로써 분류된다.\n",
    "    ex) d 의 가장 인접한 이웃 3개의 값(k=3 을 지정)\n",
    "        a,b,c 값의 라벨 중 가장 빈번한 분류명을 할당\n",
    "        d 의 분류 값은 김오렌지\n",
    "\n",
    "knn에서 사용하는 거리의 척도\n",
    "1. 연속 변수에서 가장 흔하게 사용되는 거리 척도는\n",
    "2. 유클리드 거리이다\n",
    "3. 문자 분류와 같은 이산 변수의 경우 중첩 거리(또는 해밍 거리)와 같은 다른 척도가 사용될 수 있다. \n",
    "    ex) 예를 들어 유전자 표현 미세 배열 데이터의 경우,\n",
    "        k-NN은 피어슨과 스피어만 같은 상관 계수를 사용해 왔다.\n",
    "        종종 거리 척도가 큰 여백 최근접 이웃이나\n",
    "        이웃 성분 분석과 같은 특별한 알고리즘으로 학습된다면 \n",
    "        k-NN의 분류의 정확성을 상당히 향상시킬 수 있다.\n",
    "\n",
    "knn의 단점\n",
    "1. “과반수 의결”에 따른 분류의 단점은 \n",
    "    1.1. 항목 분포가 편향될 때 나타난다.\n",
    "2. 더 빈번한 항목의 데이터가 \n",
    "    2.1. 새로운 데이터의 예측을 지배하는 경향이 있다.\n",
    "\n",
    "3. 더 빈번한 항목의 데이터가 다수를 이루어서 \n",
    "    3.1. k개의 최근접 이웃의 대부분이 되는 경향이 있기 때문이다.\n",
    "\n",
    "4. 이 문제를 해결하는 한 가지 방법은 \n",
    "    4.1. 검증점과 k개의 최근접 이웃 \n",
    "    4.2. 각각의 거리를 고려하여\n",
    "    4.3. 분류에 가중치를 주는 것이다. \n",
    "\n",
    "\n",
    "\n",
    "k-NN은 매우 일관성 있는 결과를 도출한다\n",
    "\n",
    "'''"
   ]
  },
  {
   "cell_type": "markdown",
   "metadata": {},
   "source": [
    "# 6. 특징 추출 "
   ]
  },
  {
   "cell_type": "markdown",
   "metadata": {},
   "source": [
    "- 특징 추출은 항목을 비교 가능한 몇 개의 숫자로 만드는 일이다.\n",
    "- 좋은 특징을 고르는 것은 성공적인 KNN 알고리즘을 만드는 데 있어 중요하다."
   ]
  },
  {
   "cell_type": "code",
   "execution_count": null,
   "metadata": {},
   "outputs": [],
   "source": [
    "'''\n",
    "1. 알고리즘의 입력 데이터가 처리하기에 \n",
    "2. 매우 크고 심각하게 불필요한 중복이 있다고 의심이 된다면\n",
    "    (예를 들면 동일한 측정값이 피트와 미터 단위로 존재하는 경우),\n",
    "3. 입력 데이터를 특징들의 축소된 \n",
    "4. 표현 집합(또는 특징 벡터)으로 변환할 수 있다.\n",
    "5. 입력 데이터를 특징들의 집합으로 변환하는 과정을\n",
    "6. 특징 추출이라고 한다. \n",
    "'''"
   ]
  },
  {
   "cell_type": "code",
   "execution_count": null,
   "metadata": {},
   "outputs": [],
   "source": [
    "'''\n",
    "1. 데이터 축소\n",
    "    1. 어떤 주어진 k에 대해 k-NN이 \n",
    "    2. 부정확하게 분류시키고 있는 훈련 데이터인\n",
    "    3. 항목 이상치를 선택한다\n",
    "\n",
    "    1. 남은 데이터를 두 종류의 집합으로 분리한다: \n",
    "        1. (i) 분류 결정으로 사용할 프로토타입과 \n",
    "        2. (ii) 프로토타입을 사용하는 \n",
    "            k-NN이 정확하게 분류시킬 수 있는 흡수된 점들.\n",
    "\n",
    "    2. 그 후 훈련 데이터 집합에서\n",
    "    3. 흡수된 점들은 제거할 수 있다.\n",
    "\n",
    "\n",
    "\n",
    "2.항목 이상치 선택\n",
    "    1. 무작위 오류\n",
    "    2. 해당 항목의 충분하지 않은 훈련 데이터(군집 대신 고립된 데이터가 나타난다)\n",
    "    3. 중요한 특징의 누락 (항목이 우리가 모르는 다른 차원으로 분리된다)\n",
    "    4. 주어진 적은 항목에 대해 어려운 배경을 제공하는 너무 많은 다른 항목의 훈련 데이터(불균형 항목)\n",
    "3. 데이터 축소를 위한 CNN\n",
    "'''"
   ]
  },
  {
   "cell_type": "markdown",
   "metadata": {},
   "source": [
    "# 7.차원의 저주(Curse of Dimensionality)"
   ]
  },
  {
   "cell_type": "markdown",
   "metadata": {},
   "source": [
    "- 데이터 셋이 고차원(100차원,1000차원) 공간을 가지고 있다면\n",
    "- 데이터 간 거리가 멀어져 비슷한 특징을 가지는 \n",
    "- 패턴이나 클러스터를 찾기 더 어려워진다."
   ]
  },
  {
   "cell_type": "code",
   "execution_count": null,
   "metadata": {},
   "outputs": [],
   "source": [
    "'''\n",
    "1. 데이터의 특징(feature)이 너무나도 많아서 \n",
    "2. 알고리즘 성능 저하가 나타나는 현상을 일컫는다.\n",
    "3. 데이터를 학습시키는 근본적인 이유는 \n",
    "4. 데이터 간의 경향성이나 어떤 패턴을 찾아 \n",
    "5. 새로운 데이터에 대해서도 \n",
    "6. 발견한 패턴을 적용하여 예측하기 위함이다.\n",
    "'''"
   ]
  },
  {
   "cell_type": "markdown",
   "metadata": {},
   "source": [
    "# 8. 결과의 타당성 검증"
   ]
  },
  {
   "cell_type": "code",
   "execution_count": null,
   "metadata": {},
   "outputs": [],
   "source": [
    "'''\n",
    "1. 혼동 행렬 또는 일치 행렬은\n",
    "2. k-NN 분류의 정확성을 검증하기 위한 도구로 자주 사용된다. \n",
    "3. 우도비 검정 같은 더 강한 통계적 방법을 적용할 수도 있다.\n",
    "'''"
   ]
  },
  {
   "cell_type": "markdown",
   "metadata": {},
   "source": [
    "## 8.1. 혼동 행렬"
   ]
  },
  {
   "cell_type": "code",
   "execution_count": 20,
   "metadata": {},
   "outputs": [
    {
     "data": {
      "text/html": [
       "<div>\n",
       "<style scoped>\n",
       "    .dataframe tbody tr th:only-of-type {\n",
       "        vertical-align: middle;\n",
       "    }\n",
       "\n",
       "    .dataframe tbody tr th {\n",
       "        vertical-align: top;\n",
       "    }\n",
       "\n",
       "    .dataframe thead tr th {\n",
       "        text-align: left;\n",
       "    }\n",
       "</style>\n",
       "<table border=\"1\" class=\"dataframe\">\n",
       "  <thead>\n",
       "    <tr>\n",
       "      <th></th>\n",
       "      <th></th>\n",
       "      <th colspan=\"4\" halign=\"left\">예측값</th>\n",
       "    </tr>\n",
       "    <tr>\n",
       "      <th></th>\n",
       "      <th></th>\n",
       "      <th>A</th>\n",
       "      <th>B</th>\n",
       "      <th>C</th>\n",
       "      <th>D</th>\n",
       "    </tr>\n",
       "  </thead>\n",
       "  <tbody>\n",
       "    <tr>\n",
       "      <th rowspan=\"4\" valign=\"top\">실제값</th>\n",
       "      <th>A</th>\n",
       "      <td>9</td>\n",
       "      <td>1</td>\n",
       "      <td>5</td>\n",
       "      <td>0</td>\n",
       "    </tr>\n",
       "    <tr>\n",
       "      <th>B</th>\n",
       "      <td>1</td>\n",
       "      <td>15</td>\n",
       "      <td>0</td>\n",
       "      <td>4</td>\n",
       "    </tr>\n",
       "    <tr>\n",
       "      <th>C</th>\n",
       "      <td>0</td>\n",
       "      <td>3</td>\n",
       "      <td>24</td>\n",
       "      <td>1</td>\n",
       "    </tr>\n",
       "    <tr>\n",
       "      <th>D</th>\n",
       "      <td>0</td>\n",
       "      <td>1</td>\n",
       "      <td>1</td>\n",
       "      <td>15</td>\n",
       "    </tr>\n",
       "  </tbody>\n",
       "</table>\n",
       "</div>"
      ],
      "text/plain": [
       "      예측값            \n",
       "        A   B   C   D\n",
       "실제값 A   9   1   5   0\n",
       "    B   1  15   0   4\n",
       "    C   0   3  24   1\n",
       "    D   0   1   1  15"
      ]
     },
     "execution_count": 20,
     "metadata": {},
     "output_type": "execute_result"
    }
   ],
   "source": [
    "a = [9,1,5,0]\n",
    "b = [1,15,0,4]\n",
    "c = [0,3,24,1]\n",
    "d = [0,1,1,15]\n",
    "\n",
    "pd.DataFrame([a,b,c,d],columns=[['예측값','예측값','예측값','예측값'],['A','B','C','D']],index=[['실제값','실제값','실제값','실제값'],['A','B','C','D']])"
   ]
  },
  {
   "cell_type": "markdown",
   "metadata": {},
   "source": [
    "'''\n",
    "B를 C로, C를 A로, D를 B로 혼동한다는 정보를 알 수 있고\n",
    "대략적인 모델의 성능도 한 눈에 확인할 수 있다.\n",
    "모델의 성능은 바로 이 혼동 행렬을 기반으로 하나의 수치로 표현할 수 있다.\n",
    "'''"
   ]
  },
  {
   "cell_type": "markdown",
   "metadata": {},
   "source": [
    "### 8.1.1 TP(true positive)"
   ]
  },
  {
   "cell_type": "markdown",
   "metadata": {},
   "source": [
    "- TP란 데이터의 실제값을 올바르게 예측한 케이스를 말한다."
   ]
  },
  {
   "cell_type": "code",
   "execution_count": 21,
   "metadata": {},
   "outputs": [
    {
     "data": {
      "text/html": [
       "<div>\n",
       "<style scoped>\n",
       "    .dataframe tbody tr th:only-of-type {\n",
       "        vertical-align: middle;\n",
       "    }\n",
       "\n",
       "    .dataframe tbody tr th {\n",
       "        vertical-align: top;\n",
       "    }\n",
       "\n",
       "    .dataframe thead tr th {\n",
       "        text-align: left;\n",
       "    }\n",
       "</style>\n",
       "<table border=\"1\" class=\"dataframe\">\n",
       "  <thead>\n",
       "    <tr>\n",
       "      <th></th>\n",
       "      <th></th>\n",
       "      <th colspan=\"4\" halign=\"left\">예측값</th>\n",
       "    </tr>\n",
       "    <tr>\n",
       "      <th></th>\n",
       "      <th></th>\n",
       "      <th>A</th>\n",
       "      <th>B</th>\n",
       "      <th>C</th>\n",
       "      <th>D</th>\n",
       "    </tr>\n",
       "  </thead>\n",
       "  <tbody>\n",
       "    <tr>\n",
       "      <th rowspan=\"4\" valign=\"top\">실제값</th>\n",
       "      <th>A</th>\n",
       "      <td>9</td>\n",
       "      <td>1</td>\n",
       "      <td>5</td>\n",
       "      <td>0</td>\n",
       "    </tr>\n",
       "    <tr>\n",
       "      <th>B</th>\n",
       "      <td>1</td>\n",
       "      <td>15</td>\n",
       "      <td>0</td>\n",
       "      <td>4</td>\n",
       "    </tr>\n",
       "    <tr>\n",
       "      <th>C</th>\n",
       "      <td>0</td>\n",
       "      <td>3</td>\n",
       "      <td>24</td>\n",
       "      <td>1</td>\n",
       "    </tr>\n",
       "    <tr>\n",
       "      <th>D</th>\n",
       "      <td>0</td>\n",
       "      <td>1</td>\n",
       "      <td>1</td>\n",
       "      <td>15</td>\n",
       "    </tr>\n",
       "  </tbody>\n",
       "</table>\n",
       "</div>"
      ],
      "text/plain": [
       "      예측값            \n",
       "        A   B   C   D\n",
       "실제값 A   9   1   5   0\n",
       "    B   1  15   0   4\n",
       "    C   0   3  24   1\n",
       "    D   0   1   1  15"
      ]
     },
     "execution_count": 21,
     "metadata": {},
     "output_type": "execute_result"
    }
   ],
   "source": [
    "\n",
    "\n",
    "\n",
    "pd.DataFrame([a,b,c,d],columns=[['예측값','예측값','예측값','예측값'],['A','B','C','D']],index=[['실제값','실제값','실제값','실제값'],['A','B','C','D']])"
   ]
  },
  {
   "cell_type": "code",
   "execution_count": null,
   "metadata": {},
   "outputs": [],
   "source": [
    "''' TP ( True posivive )올바르게 예측한 케이스\n",
    "A와 A = 9\n",
    "B와 B = 15\n",
    "C와 C = 24\n",
    "D와 D = 15\n",
    "'''"
   ]
  },
  {
   "cell_type": "markdown",
   "metadata": {},
   "source": [
    "### 8.1.2 TN(true negative)"
   ]
  },
  {
   "cell_type": "code",
   "execution_count": 22,
   "metadata": {},
   "outputs": [
    {
     "data": {
      "text/html": [
       "<div>\n",
       "<style scoped>\n",
       "    .dataframe tbody tr th:only-of-type {\n",
       "        vertical-align: middle;\n",
       "    }\n",
       "\n",
       "    .dataframe tbody tr th {\n",
       "        vertical-align: top;\n",
       "    }\n",
       "\n",
       "    .dataframe thead tr th {\n",
       "        text-align: left;\n",
       "    }\n",
       "</style>\n",
       "<table border=\"1\" class=\"dataframe\">\n",
       "  <thead>\n",
       "    <tr>\n",
       "      <th></th>\n",
       "      <th></th>\n",
       "      <th colspan=\"4\" halign=\"left\">예측값</th>\n",
       "    </tr>\n",
       "    <tr>\n",
       "      <th></th>\n",
       "      <th></th>\n",
       "      <th>A</th>\n",
       "      <th>B</th>\n",
       "      <th>C</th>\n",
       "      <th>D</th>\n",
       "    </tr>\n",
       "  </thead>\n",
       "  <tbody>\n",
       "    <tr>\n",
       "      <th rowspan=\"4\" valign=\"top\">실제값</th>\n",
       "      <th>A</th>\n",
       "      <td>9</td>\n",
       "      <td>1</td>\n",
       "      <td>5</td>\n",
       "      <td>0</td>\n",
       "    </tr>\n",
       "    <tr>\n",
       "      <th>B</th>\n",
       "      <td>1</td>\n",
       "      <td>15</td>\n",
       "      <td>0</td>\n",
       "      <td>4</td>\n",
       "    </tr>\n",
       "    <tr>\n",
       "      <th>C</th>\n",
       "      <td>0</td>\n",
       "      <td>3</td>\n",
       "      <td>24</td>\n",
       "      <td>1</td>\n",
       "    </tr>\n",
       "    <tr>\n",
       "      <th>D</th>\n",
       "      <td>0</td>\n",
       "      <td>1</td>\n",
       "      <td>1</td>\n",
       "      <td>15</td>\n",
       "    </tr>\n",
       "  </tbody>\n",
       "</table>\n",
       "</div>"
      ],
      "text/plain": [
       "      예측값            \n",
       "        A   B   C   D\n",
       "실제값 A   9   1   5   0\n",
       "    B   1  15   0   4\n",
       "    C   0   3  24   1\n",
       "    D   0   1   1  15"
      ]
     },
     "execution_count": 22,
     "metadata": {},
     "output_type": "execute_result"
    }
   ],
   "source": [
    "\n",
    "\n",
    "\n",
    "pd.DataFrame([a,b,c,d],columns=[['예측값','예측값','예측값','예측값'],['A','B','C','D']],index=[['실제값','실제값','실제값','실제값'],['A','B','C','D']])"
   ]
  },
  {
   "cell_type": "code",
   "execution_count": null,
   "metadata": {},
   "outputs": [],
   "source": [
    "''' TN(true negative)\n",
    "A와 관련되어 있지 않은 모든 값들을 A의 TN\n",
    "\n",
    "B와 B,C,D 의 값\n",
    "C와 B,C,D 의 값\n",
    "D와 B,C,D 의 값\n",
    "'''"
   ]
  },
  {
   "cell_type": "markdown",
   "metadata": {},
   "source": [
    "### 8.1.3 FP(false positive)"
   ]
  },
  {
   "cell_type": "code",
   "execution_count": 24,
   "metadata": {},
   "outputs": [
    {
     "data": {
      "text/html": [
       "<div>\n",
       "<style scoped>\n",
       "    .dataframe tbody tr th:only-of-type {\n",
       "        vertical-align: middle;\n",
       "    }\n",
       "\n",
       "    .dataframe tbody tr th {\n",
       "        vertical-align: top;\n",
       "    }\n",
       "\n",
       "    .dataframe thead tr th {\n",
       "        text-align: left;\n",
       "    }\n",
       "</style>\n",
       "<table border=\"1\" class=\"dataframe\">\n",
       "  <thead>\n",
       "    <tr>\n",
       "      <th></th>\n",
       "      <th></th>\n",
       "      <th colspan=\"4\" halign=\"left\">예측값</th>\n",
       "    </tr>\n",
       "    <tr>\n",
       "      <th></th>\n",
       "      <th></th>\n",
       "      <th>A</th>\n",
       "      <th>B</th>\n",
       "      <th>C</th>\n",
       "      <th>D</th>\n",
       "    </tr>\n",
       "  </thead>\n",
       "  <tbody>\n",
       "    <tr>\n",
       "      <th rowspan=\"4\" valign=\"top\">실제값</th>\n",
       "      <th>A</th>\n",
       "      <td>9</td>\n",
       "      <td>1</td>\n",
       "      <td>5</td>\n",
       "      <td>0</td>\n",
       "    </tr>\n",
       "    <tr>\n",
       "      <th>B</th>\n",
       "      <td>1</td>\n",
       "      <td>15</td>\n",
       "      <td>0</td>\n",
       "      <td>4</td>\n",
       "    </tr>\n",
       "    <tr>\n",
       "      <th>C</th>\n",
       "      <td>0</td>\n",
       "      <td>3</td>\n",
       "      <td>24</td>\n",
       "      <td>1</td>\n",
       "    </tr>\n",
       "    <tr>\n",
       "      <th>D</th>\n",
       "      <td>0</td>\n",
       "      <td>1</td>\n",
       "      <td>1</td>\n",
       "      <td>15</td>\n",
       "    </tr>\n",
       "  </tbody>\n",
       "</table>\n",
       "</div>"
      ],
      "text/plain": [
       "      예측값            \n",
       "        A   B   C   D\n",
       "실제값 A   9   1   5   0\n",
       "    B   1  15   0   4\n",
       "    C   0   3  24   1\n",
       "    D   0   1   1  15"
      ]
     },
     "execution_count": 24,
     "metadata": {},
     "output_type": "execute_result"
    }
   ],
   "source": [
    "\n",
    "\n",
    "\n",
    "pd.DataFrame([a,b,c,d],columns=[['예측값','예측값','예측값','예측값'],['A','B','C','D']],index=[['실제값','실제값','실제값','실제값'],['A','B','C','D']])"
   ]
  },
  {
   "cell_type": "code",
   "execution_count": null,
   "metadata": {},
   "outputs": [],
   "source": [
    "''' FP(false positive)\n",
    "FP는 틀린 것을 맞다고 잘못 예측한 것을 말한다. \n",
    "A의 FP는 다른 것들을 A라고 잘못 예측한 값들이다\n",
    "\n",
    "예측값 A의 BCD값을 FP라고 부른다\n",
    "예측값 B의 ACD값을 FP라고 부른다\n",
    "예측값 C의 ABD값을 FP라고 부른다\n",
    "예측값 D의 ABC값을 FP라고 부른다\n",
    "'''"
   ]
  },
  {
   "cell_type": "markdown",
   "metadata": {},
   "source": [
    "### 8.1.4 FN(false negative)"
   ]
  },
  {
   "cell_type": "code",
   "execution_count": 25,
   "metadata": {},
   "outputs": [
    {
     "data": {
      "text/html": [
       "<div>\n",
       "<style scoped>\n",
       "    .dataframe tbody tr th:only-of-type {\n",
       "        vertical-align: middle;\n",
       "    }\n",
       "\n",
       "    .dataframe tbody tr th {\n",
       "        vertical-align: top;\n",
       "    }\n",
       "\n",
       "    .dataframe thead tr th {\n",
       "        text-align: left;\n",
       "    }\n",
       "</style>\n",
       "<table border=\"1\" class=\"dataframe\">\n",
       "  <thead>\n",
       "    <tr>\n",
       "      <th></th>\n",
       "      <th></th>\n",
       "      <th colspan=\"4\" halign=\"left\">예측값</th>\n",
       "    </tr>\n",
       "    <tr>\n",
       "      <th></th>\n",
       "      <th></th>\n",
       "      <th>A</th>\n",
       "      <th>B</th>\n",
       "      <th>C</th>\n",
       "      <th>D</th>\n",
       "    </tr>\n",
       "  </thead>\n",
       "  <tbody>\n",
       "    <tr>\n",
       "      <th rowspan=\"4\" valign=\"top\">실제값</th>\n",
       "      <th>A</th>\n",
       "      <td>9</td>\n",
       "      <td>1</td>\n",
       "      <td>5</td>\n",
       "      <td>0</td>\n",
       "    </tr>\n",
       "    <tr>\n",
       "      <th>B</th>\n",
       "      <td>1</td>\n",
       "      <td>15</td>\n",
       "      <td>0</td>\n",
       "      <td>4</td>\n",
       "    </tr>\n",
       "    <tr>\n",
       "      <th>C</th>\n",
       "      <td>0</td>\n",
       "      <td>3</td>\n",
       "      <td>24</td>\n",
       "      <td>1</td>\n",
       "    </tr>\n",
       "    <tr>\n",
       "      <th>D</th>\n",
       "      <td>0</td>\n",
       "      <td>1</td>\n",
       "      <td>1</td>\n",
       "      <td>15</td>\n",
       "    </tr>\n",
       "  </tbody>\n",
       "</table>\n",
       "</div>"
      ],
      "text/plain": [
       "      예측값            \n",
       "        A   B   C   D\n",
       "실제값 A   9   1   5   0\n",
       "    B   1  15   0   4\n",
       "    C   0   3  24   1\n",
       "    D   0   1   1  15"
      ]
     },
     "execution_count": 25,
     "metadata": {},
     "output_type": "execute_result"
    }
   ],
   "source": [
    "\n",
    "\n",
    "\n",
    "pd.DataFrame([a,b,c,d],columns=[['예측값','예측값','예측값','예측값'],['A','B','C','D']],index=[['실제값','실제값','실제값','실제값'],['A','B','C','D']])"
   ]
  },
  {
   "cell_type": "code",
   "execution_count": null,
   "metadata": {},
   "outputs": [],
   "source": [
    "''' FN(false negative)\n",
    "FN는 맞는 것을 틀렸다고 잘못 예측한 것을 말한다.\n",
    "A의 FN은 A를 다른 것이라고 잘못 예측한 값이다\n",
    "'''"
   ]
  },
  {
   "cell_type": "markdown",
   "metadata": {},
   "source": [
    "## 8.2. 일치행렬"
   ]
  },
  {
   "cell_type": "code",
   "execution_count": null,
   "metadata": {},
   "outputs": [],
   "source": [
    "'''\n",
    "1. 두 행렬의 모든 원소에 대해\n",
    "2. 값이 같으면 1 \n",
    "3. 다르면 0으로 \n",
    "4. 계산한 행렬을 일치행렬(incidence matrix)이라고 한다.\n",
    "\n",
    "즉 데이터 집합에서 만들수 있는 모든 데이터 쌍에 대해 정답과 군집화 결과에서 동일한 값을 나타내면 1, 다르면 0이 된다.\n",
    "'''"
   ]
  },
  {
   "cell_type": "markdown",
   "metadata": {},
   "source": [
    "# 9. tmi"
   ]
  },
  {
   "cell_type": "markdown",
   "metadata": {},
   "source": [
    "## 9.1. 클러스터링"
   ]
  },
  {
   "cell_type": "code",
   "execution_count": null,
   "metadata": {},
   "outputs": [],
   "source": [
    "'''클러스터링(Clustering) 군집 분석\n",
    "정답데이터가 없는 비지도 학습의 일종이다.\n",
    "주로 고객을 그룹화하는 등 공통된 특성을 가진 군집들로 묶는 알고리즘을 의미한다.\n",
    "가장 유명한것은 K-means클러스터링이다.\n",
    "'''"
   ]
  },
  {
   "cell_type": "markdown",
   "metadata": {},
   "source": [
    "## 9.2. K-means"
   ]
  },
  {
   "cell_type": "code",
   "execution_count": null,
   "metadata": {},
   "outputs": [],
   "source": [
    "'''K-means \n",
    "1. k-평균 알고리즘은 주어진 데이터를 \n",
    "2. k개의 클러스터로 묶는 알고리즘으로, \n",
    "3. 각 클러스터와 거리 차이의 분산을 최소화하는 방식으로 동작한다.\n",
    "4. 이 알고리즘은 자율 학습의 일종으로,\n",
    "5. 레이블이 달려 있지 않은 입력 데이터에 레이블을 달아주는 역할을 수행한다.\n",
    "'''"
   ]
  },
  {
   "cell_type": "code",
   "execution_count": null,
   "metadata": {},
   "outputs": [],
   "source": [
    "'''분할법\n",
    "1. k-평균 클러스터링 알고리즘은 \n",
    "2. 클러스터링 방법 중 \n",
    "3. 분할법에 속한다.\n",
    "\n",
    "분할법이란\n",
    "1. 분할법은 주어진 데이터를\n",
    "2. 여러 파티션 (그룹)으로 나누는 방법이다. \n",
    "\n",
    "    1. n개의 데이터 오브젝트를 입력받았을 때 \n",
    "    2. 분할법은 입력 데이터를 \n",
    "    3. n보다 작거나 같은 k개의 그룹으로 나누게된다.\n",
    "    4. 이 때 각 그룹은 클러스터를 형성하게 된다.\n",
    "\n",
    "        1. 그룹을 나누는 과정은 거리 기반의 \n",
    "        2. 그룹간 비유사도와 같은 비용 함수를 최소화하는 방식으로 이루어지며,\n",
    "        3. 이 과정에서 같은 그룹 내 데이터 오브젝트 끼리의 유사도는 증가하고, \n",
    "        4. 다른 그룹에 있는 데이터 오브젝트와의 유사도는 감소하게 된다.\n",
    "\n",
    "        비용함수\n",
    "        1. k-평균 알고리즘은 각 그룹의 중심과 그룹 내의 \n",
    "        2. 데이터 오브젝트와의 거리의 제곱합을 비용 함수로 정하고,\n",
    "        3. 이 함수값을 최소화하는 방향으로 각 데이터 오브젝트의 \n",
    "        4. 소속 그룹을 업데이트 해 줌으로써 클러스터링을 수행하게 된다.\n",
    "  '''"
   ]
  },
  {
   "cell_type": "markdown",
   "metadata": {},
   "source": [
    "## 9.3. KNN과 Kmeans의 유사점"
   ]
  },
  {
   "cell_type": "code",
   "execution_count": null,
   "metadata": {},
   "outputs": [],
   "source": [
    "'''\n",
    "두 알고리즘 모두 가까운 이웃 (가장 근접한 요소)를 이용한 분석방법\n",
    "'''"
   ]
  },
  {
   "cell_type": "markdown",
   "metadata": {},
   "source": [
    "## 9.4. KNN과 Kmeans의 차이점"
   ]
  },
  {
   "cell_type": "markdown",
   "metadata": {},
   "source": [
    "### 9.4.1. KNN 이웃"
   ]
  },
  {
   "cell_type": "markdown",
   "metadata": {},
   "source": [
    "- KNN에서의 K는 K개수를 참고하여 분류를 하는 방법"
   ]
  },
  {
   "cell_type": "code",
   "execution_count": null,
   "metadata": {},
   "outputs": [],
   "source": [
    "''' \n",
    "knn  (Classfier)\n",
    "분류 알고리즘 (지도학습)\n",
    "K개의 최근접 이웃을 참조하여 자신의 클래스를 결정하게 된다.\n",
    "'''"
   ]
  },
  {
   "cell_type": "markdown",
   "metadata": {},
   "source": [
    "### 9.4.2. Kmeans K평균"
   ]
  },
  {
   "cell_type": "markdown",
   "metadata": {},
   "source": [
    "- Kmeans에서의 K는 군집을 만들기 위한 기준이 된다."
   ]
  },
  {
   "cell_type": "code",
   "execution_count": null,
   "metadata": {},
   "outputs": [],
   "source": [
    "'''\n",
    "kmeans  (Clustering)\n",
    "군집화 알고리즘 (비지도학습)\n",
    "\n",
    "1. k의 개수를 정한다(클러스터의 개수)\n",
    "2. k개의 초기 중심을 임의로 정한다\n",
    "3. 각 데이터 포인터 ~ K개의 중심 거리를 계산하여 가장 가까운 중심점이 속한 클러스터로 이동한다\n",
    "4. 2,3 단계를 반복하고 더 이상 클러스터에 변화가 없다면 종료한다\n",
    "'''"
   ]
  }
 ],
 "metadata": {
  "kernelspec": {
   "display_name": "Python 3.8.13 ('jane')",
   "language": "python",
   "name": "python3"
  },
  "language_info": {
   "codemirror_mode": {
    "name": "ipython",
    "version": 3
   },
   "file_extension": ".py",
   "mimetype": "text/x-python",
   "name": "python",
   "nbconvert_exporter": "python",
   "pygments_lexer": "ipython3",
   "version": "3.8.13"
  },
  "orig_nbformat": 4,
  "vscode": {
   "interpreter": {
    "hash": "49255d153a3e616e9269e7625e705c94160e2d4465237e0ca3d809180fa113e3"
   }
  }
 },
 "nbformat": 4,
 "nbformat_minor": 2
}
