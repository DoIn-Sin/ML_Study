{
 "cells": [
  {
   "cell_type": "markdown",
   "metadata": {},
   "source": [
    "# 머신러닝 알고리즘 이름"
   ]
  },
  {
   "cell_type": "markdown",
   "metadata": {},
   "source": [
    "## 1. 정의"
   ]
  },
  {
   "cell_type": "markdown",
   "metadata": {},
   "source": [
    "## 2. 장단점"
   ]
  },
  {
   "cell_type": "markdown",
   "metadata": {},
   "source": [
    "## 3. 핵심 원리 간단 설명 or 중요 파라미터 정리"
   ]
  },
  {
   "cell_type": "markdown",
   "metadata": {},
   "source": [
    "## 4. 실습"
   ]
  },
  {
   "cell_type": "markdown",
   "metadata": {},
   "source": [
    "## 5. 기타 그 외"
   ]
  },
  {
   "cell_type": "markdown",
   "metadata": {},
   "source": [
    "* * *"
   ]
  },
  {
   "cell_type": "markdown",
   "metadata": {},
   "source": [
    "# 작성 예시"
   ]
  },
  {
   "cell_type": "markdown",
   "metadata": {},
   "source": [
    "* * *"
   ]
  },
  {
   "cell_type": "markdown",
   "metadata": {},
   "source": [
    "# KNN(K-Nearest Neighbor)"
   ]
  },
  {
   "cell_type": "markdown",
   "metadata": {},
   "source": [
    "## 1. 정의"
   ]
  },
  {
   "cell_type": "markdown",
   "metadata": {},
   "source": [
    "- 비교 대상이 되는 데이터 포인트 주변에 가장 가까이 존재하는 k개의 데잍와 비교해 가장 가까운 데이터 종류로 판별하는 알고리즘이다.\n",
    "- 데이터를 분류하는 데 KNN을 k=3으로 설정하여 사용한다면 데이터 포인트에서 가장 가까운 데이터 3개와 비교한 후 테스트 데이터를 판별하게 된다.\n",
    "\n",
    ">예시\n",
    "과일의 특징에 따라 과일 종류를 KNN을 k=3으로 설정 후 분류한다고 하자. 테스트 데이터 주변의 가장 가까운 데이터 3개가 포도2개 레몬 1개로 구성되어 있다면, 데스트 데이터 주변에 가장 많이 존재함을 의미하므로 테스트 데이터를 포도라고 분류하게 된다.\n",
    "\n",
    "- 타겟값이 연속형이라면 주변 k개에 존재하는 데이터의 평균값으로 예측하는 방법을 사용한다.\n",
    "\n",
    ">예시\n",
    "과일의 당도를 예측할 때 KNN에 k=3인 모델로 예측한다고 하자. 그때 테스트 데이터 주변에 당도가 8, 10, 12인 값이 있다면, 테스트 데이터는 (8+10+12)/3 = 10이 된다."
   ]
  },
  {
   "cell_type": "markdown",
   "metadata": {},
   "source": [
    "## 2. 장단점"
   ]
  },
  {
   "cell_type": "markdown",
   "metadata": {},
   "source": [
    "1. 장점\n",
    "- 게으른 학습을 진행하여 다른 분류 알고리즘에 비해 학습 속도가 훨씬 빠르다.\n",
    "    - 게으른 학습:\n",
    "- 비선형 데이터의 문제 해결에 유용할 수 있다.\n",
    "\n",
    "2. 단점\n",
    "- KNN은 데이터 포인트 사이의 유클리드 거리를 사용하여 가장 가까운 이웃을 찾기 때문에 데이터 스케일링이 필수이다.\n",
    "    - 거리 측정 지표인 유클리드 거리는 값이 큰 피처를 값이 작은 피처보다 가중치가 더 크기 때문이다. (=값의 크기에 민감하게 반응하기 떄문이다.)"
   ]
  },
  {
   "cell_type": "markdown",
   "metadata": {},
   "source": [
    "## 3. 거리 측정 지표"
   ]
  },
  {
   "cell_type": "markdown",
   "metadata": {},
   "source": [
    "KNN은 거리 측정 방법에 따라 그 결과가 크게 달라지는 알고리즘이다.\n",
    "\n",
    "1. Minkowski 거리\n",
    "- 유클리드 거리와 맨해튼 거리를 일반화한 거리 측정 지표\n",
    "- $\\left(\\displaystyle\\sum_{i=1}^{n} \\vert {x_i - y_i} \\vert^p \\right)^{1/p}$ , ($i$ = 각 벡터의 $i^{번째}$ 요소, $x, y$ = 거리를 계산할 데이터 객체, $p$ = 1 또는 2의 정수)\n",
    "- p=1이면 맨해튼 거리, p=2이면 유클리드 거리를 계산하는 것과 같다.\n",
    "- 사이킷런에서는 p=2가 디폴트로 설정되어 있어 유클리드 거리를 거리 측정 지표로 사용하고 있다.\n",
    "\n",
    "2. 유클리드 거리\n",
    "- 유클리디안 거리라고 부르기도 한다.\n",
    "- n 차원에서 두 점 사이의 거리를 구할 때, 각 차원의 차를 제곱해서 모두 더한 값에 제곱근을 취해 거리를 계산한다.\n",
    "- 값을 정규화하지 않으면 편차가 제곱되기 때문에 특정 차원이 거리값에 큰 영향을 끼칠 수 있다.\n",
    "- 따라서, `저차원의 데이터`가 있고 `벡터의 크기를 측정하는 것이 중요할 때 사용`한다.\n",
    "- $\\displaystyle\\sqrt{\\sum_{i=1}^{n} ({x_i - y_i})^2}$, ($i$ = 각 벡터의 $i^{번째}$ 요소, $x, y$ = 거리를 계산할 데이터 객체)\n",
    "\n",
    "3. 맨해튼 거리<br>\n",
    "- 유클리드 거리처럼 각 차원의 차를 제곱해서 사용하는 것이 아니라 절댓값을 바로 합산하여 계산한다.\n",
    "- 제곱을 하지 않기 때문에 차원의 영향력을 줄일 수 있다.\n",
    "- 따라서 `고차원의 벡터` 사이의 `거리를 구할 때 사용`하면, 유클리드 거리 측정 방법보다 낫다.\n",
    "- $\\displaystyle\\sqrt{\\sum_{i=1}^{n} \\vert {x_i - y_i}\\vert}$, ($i$ = 각 벡터의 $i^{번째}$ 요소, $x, y$ = 거리를 계산할 데이터 객체)"
   ]
  },
  {
   "cell_type": "markdown",
   "metadata": {},
   "source": [
    "### 3.1. 거리 측정 지표 구현해보기"
   ]
  },
  {
   "cell_type": "code",
   "execution_count": 1,
   "metadata": {},
   "outputs": [
    {
     "name": "stdout",
     "output_type": "stream",
     "text": [
      "[5, 4, 3], [1, 7, 9] 유클리드 거리 계산 결과: 7.810249675906654\n",
      "[5, 4, 3], [1, 7, 9] 맨해튼 거리 계산 결과: 13\n"
     ]
    }
   ],
   "source": [
    "def euclidean_distance(pt1, pt2):\n",
    "  distance = 0\n",
    "  for i in range(len(pt1)):\n",
    "    distance += (pt1[i] - pt2[i]) ** 2\n",
    "  return distance ** 0.5\n",
    "\n",
    "def manhattan_distance(pt1, pt2):\n",
    "  distance = 0\n",
    "  for i in range(len(pt1)):\n",
    "    distance += abs(pt1[i] - pt2[i])\n",
    "  return distance\n",
    "\n",
    "print(f\"[5, 4, 3], [1, 7, 9] 유클리드 거리 계산 결과: {euclidean_distance([5, 4, 3], [1, 7, 9])}\")\n",
    "print(f\"[5, 4, 3], [1, 7, 9] 맨해튼 거리 계산 결과: {manhattan_distance([5, 4, 3], [1, 7, 9])}\")"
   ]
  },
  {
   "cell_type": "markdown",
   "metadata": {},
   "source": [
    "## 4. 실습"
   ]
  },
  {
   "cell_type": "markdown",
   "metadata": {},
   "source": [
    "### 4.1. Iris 데이터를 활용해서 KNN 실습하기"
   ]
  },
  {
   "cell_type": "markdown",
   "metadata": {},
   "source": [
    "#### 4.1.1. 데이터 불러오기"
   ]
  },
  {
   "cell_type": "code",
   "execution_count": 2,
   "metadata": {},
   "outputs": [],
   "source": [
    "from sklearn.datasets import load_iris\n",
    "\n",
    "iris = load_iris()"
   ]
  },
  {
   "cell_type": "markdown",
   "metadata": {},
   "source": [
    "#### 4.1.2. 피처, 타겟 데이터 지정"
   ]
  },
  {
   "cell_type": "code",
   "execution_count": 3,
   "metadata": {},
   "outputs": [],
   "source": [
    "import pandas as pd\n",
    "\n",
    "df = pd.DataFrame(iris['data'], columns=iris['feature_names'])\n",
    "df['target'] = iris['target']"
   ]
  },
  {
   "cell_type": "code",
   "execution_count": 4,
   "metadata": {},
   "outputs": [],
   "source": [
    "X = df.drop('target', axis=1)\n",
    "y = df['target']"
   ]
  },
  {
   "cell_type": "markdown",
   "metadata": {},
   "source": [
    "#### 4.1.3. 데이터 표준화"
   ]
  },
  {
   "cell_type": "code",
   "execution_count": 5,
   "metadata": {},
   "outputs": [],
   "source": [
    "from sklearn.preprocessing import StandardScaler\n",
    "\n",
    "std_scaler = StandardScaler()\n",
    "X_scaled = std_scaler.fit_transform(X)"
   ]
  },
  {
   "cell_type": "markdown",
   "metadata": {},
   "source": [
    "#### 4.1.4. 트레이닝/테스트 데이터 분할"
   ]
  },
  {
   "cell_type": "code",
   "execution_count": 6,
   "metadata": {},
   "outputs": [],
   "source": [
    "from sklearn.model_selection import train_test_split\n",
    "\n",
    "X_train, X_test, y_train, y_test = train_test_split(X_scaled, y, test_size=0.2, random_state=42)"
   ]
  },
  {
   "cell_type": "code",
   "execution_count": 7,
   "metadata": {},
   "outputs": [
    {
     "data": {
      "text/plain": [
       "((120, 4), (30, 4), (120,), (30,))"
      ]
     },
     "execution_count": 7,
     "metadata": {},
     "output_type": "execute_result"
    }
   ],
   "source": [
    "X_train.shape, X_test.shape, y_train.shape, y_test.shape"
   ]
  },
  {
   "cell_type": "markdown",
   "metadata": {},
   "source": [
    "#### 4.1.5. 데이터 학습"
   ]
  },
  {
   "cell_type": "code",
   "execution_count": 8,
   "metadata": {},
   "outputs": [
    {
     "data": {
      "text/plain": [
       "KNeighborsClassifier(n_neighbors=2)"
      ]
     },
     "execution_count": 8,
     "metadata": {},
     "output_type": "execute_result"
    }
   ],
   "source": [
    "from sklearn.neighbors import KNeighborsClassifier\n",
    "\n",
    "knn_clf = KNeighborsClassifier(n_neighbors=2) # 데이터 포인트와 근접한 2개의 데이터를 비교하여 분류\n",
    "knn_clf.fit(X_train, y_train)"
   ]
  },
  {
   "cell_type": "markdown",
   "metadata": {},
   "source": [
    "#### 4.1.6. 데이터 예측"
   ]
  },
  {
   "cell_type": "code",
   "execution_count": 9,
   "metadata": {},
   "outputs": [
    {
     "name": "stdout",
     "output_type": "stream",
     "text": [
      "[1 0 2 1 1 0 1 2 1 1 2 0 0 0 0 1 2 1 1 2 0 2 0 2 2 2 2 2 0 0]\n"
     ]
    }
   ],
   "source": [
    "knn_pred = knn_clf.predict(X_test)\n",
    "print(knn_pred)"
   ]
  },
  {
   "cell_type": "markdown",
   "metadata": {},
   "source": [
    "#### 4.1.7. 정확도 평가"
   ]
  },
  {
   "cell_type": "code",
   "execution_count": 10,
   "metadata": {},
   "outputs": [
    {
     "name": "stdout",
     "output_type": "stream",
     "text": [
      "KNN, k=2인 모델의 테스트 데이터셋 정확도: 1.0\n"
     ]
    }
   ],
   "source": [
    "from sklearn.metrics import accuracy_score\n",
    "\n",
    "print(f\"KNN, k=2인 모델의 테스트 데이터셋 정확도: {accuracy_score(y_test, knn_pred)}\")"
   ]
  },
  {
   "cell_type": "markdown",
   "metadata": {},
   "source": [
    "#### 4.1.8. confusion matrix 확인"
   ]
  },
  {
   "cell_type": "code",
   "execution_count": 11,
   "metadata": {},
   "outputs": [
    {
     "name": "stdout",
     "output_type": "stream",
     "text": [
      "[[10  0  0]\n",
      " [ 0  9  0]\n",
      " [ 0  0 11]]\n"
     ]
    }
   ],
   "source": [
    "from sklearn.metrics import confusion_matrix\n",
    "\n",
    "knn_confusion_matrix = confusion_matrix(y_test, knn_pred)\n",
    "print(knn_confusion_matrix)"
   ]
  },
  {
   "cell_type": "code",
   "execution_count": 15,
   "metadata": {},
   "outputs": [
    {
     "data": {
      "image/png": "[encoded data removed]",
      "text/plain": [
       "<Figure size 640x480 with 2 Axes>"
      ]
     },
     "metadata": {},
     "output_type": "display_data"
    }
   ],
   "source": [
    "\n",
    "\n",
    "cm = confusion_matrix(y_test, knn_pred, labels=knn_clf.classes_)\n",
    "disp = ConfusionMatrixDisplay(confusion_matrix=cm,\n",
    "                               display_labels=knn_clf.classes_)\n",
    "disp.plot();from sklearn.metrics import confusion_matrix, ConfusionMatrixDisplay"
   ]
  },
  {
   "cell_type": "markdown",
   "metadata": {},
   "source": [
    "https://nittaku.tistory.com/295"
   ]
  },
  {
   "cell_type": "markdown",
   "metadata": {},
   "source": [
    "#### 4.1.9. 분류 리포트 확인"
   ]
  },
  {
   "cell_type": "code",
   "execution_count": 12,
   "metadata": {},
   "outputs": [
    {
     "name": "stdout",
     "output_type": "stream",
     "text": [
      "              precision    recall  f1-score   support\n",
      "\n",
      "           0       1.00      1.00      1.00        10\n",
      "           1       1.00      1.00      1.00         9\n",
      "           2       1.00      1.00      1.00        11\n",
      "\n",
      "    accuracy                           1.00        30\n",
      "   macro avg       1.00      1.00      1.00        30\n",
      "weighted avg       1.00      1.00      1.00        30\n",
      "\n"
     ]
    }
   ],
   "source": [
    "from sklearn.metrics import classification_report\n",
    "\n",
    "class_report = classification_report(y_test, knn_pred)\n",
    "print(class_report)"
   ]
  },
  {
   "cell_type": "markdown",
   "metadata": {},
   "source": [
    "1) Precision = 정밀도\n",
    "\n",
    "- 양성 클래스라고 예측한 샘플(TP+FP) 중 실제로 양성 클래스에 속하는 샘플(TP) 샘플 수의 비율.\n",
    "- 높을수록 좋다. '예측값'을 기준으로 한 '정답인 예측값'의 비율로 생각하면 쉽다.\n",
    "- $precision=\\displaystyle\\frac{TP}{TP\\ +\\ FP}$\n",
    "\n",
    "2) Recall = 재현율\n",
    "- 실제 양성 클래스에 속한 샘플(TP+FN) 중 양성 클래스라고 예측한 샘플(TP) 샘플 수의 비율.\n",
    "- 역시 높을수록 좋다. '실제 값'을 기준으로 한 '정답인 예측값'의 비율로 생각하면 쉽다.\n",
    "- $recall=\\displaystyle\\frac{TP}{TP+FN}$\n",
    "​\n",
    "\n",
    "3) Accuracy = 정확도\n",
    "- 전체 샘플 중 맞게 예측한 샘플 수의 비율. 역시 높을수록 좋다.\n",
    "- $accuracy=\\displaystyle\\frac{TP+TN}{TN+TP+FN+FP}$\n",
    "​\n",
    "4) F1-score\n",
    "- precision과 recall의 가중 조화평균(weight harmonic average)을 F-score라 한다.\n",
    "- $\\displaystyle{F_\\beta}=(1+\\beta^2)(precision \\times recall)/({β^2}precision+recall)$\n",
    "- 이때 정밀도에 주어지는 가중치를 beta라고 하는데 이 beta가 1인 경우를 F1-score라고 한다.\n",
    "- $\\displaystyle{F_1}=(1+\\beta^2)(precision \\times recall)/({1^2}precision+recall)$\n",
    "- $\\displaystyle{F_1}=(2)(precision \\times recall)/(precision+recall)$\n",
    "\n",
    "4) support\n",
    "- 각 라벨의 실제 샘플 개수이다.\n",
    "- 예시로 총 30개의 샘플 중 라벨이 0인 샘플은 10개, 1인 샘플은 9개, 2인 샘플은 11개가 있다.\n",
    "\n",
    "5) macro avg \n",
    "- 샘플 개수의 불균형을 고려하지 않는다.\n",
    "- f1-macro-avg를 예로 들면 0부터 2까지 라벨의 f1-score 3개를 모두 더한 뒤 3을 나누면 된다.\n",
    "- (1.0 + 1.0 + 1.0) / 3 = 1.0\n",
    "- 샘플 개수의 불균형을 고려하지 않기 때문에 소수 클래스에 대한 성능이 낮을 때 더 큰 페널티가 발생한다. (데이터가 불균형할 때 확인해보자)\n",
    "\n",
    "6) weighted avg\n",
    "- 클래스에 해당하는 데이터의 개수에 가중치를 주어 평균을 구한 것이다.\n",
    "- 샘플 개수의 불균형을 고려한다.\n",
    "- weighted avg f1 score를 예로 들면 아래와 같다.\n",
    "- $\\combi{F1}_{class1}\\ast \\combi{W}_1+\\combi{F1}_{class2}\\ast \\combi{W}_2+⋅\\ ⋅\\ ⋅+\\combi{F1}_{classN}\\ast \\combi{W}_N$F1class1​∗W1​+F1class2​∗W2​+⋅ ⋅ ⋅+F1classN​∗WN​​\n",
    "- 클래스 0의 경우 전체 1797에 대한 178의 비율을 f1-score에 곱하면 된다.\n",
    "- 가중 평균을 수행하기 때문에 샘플의 개수가 적은 클래스의 영향력이 감소한다."
   ]
  },
  {
   "cell_type": "markdown",
   "metadata": {},
   "source": [
    "### 4.2. KNN 최적화"
   ]
  },
  {
   "cell_type": "markdown",
   "metadata": {},
   "source": [
    "- KNN은 k의 값에 따라 결과가 달라진다.\n",
    "- 따라서 k의 적절한 값을 찾는 것이 KNN 모델 최적화의 핵심이다."
   ]
  },
  {
   "cell_type": "code",
   "execution_count": 13,
   "metadata": {},
   "outputs": [
    {
     "name": "stdout",
     "output_type": "stream",
     "text": [
      "[0.96666667 1.         1.         1.         1.         1.\n",
      " 1.         1.         1.        ]\n"
     ]
    },
    {
     "data": {
      "image/png": "[encoded data removed]",
      "text/plain": [
       "<Figure size 640x480 with 1 Axes>"
      ]
     },
     "metadata": {},
     "output_type": "display_data"
    }
   ],
   "source": [
    "import numpy as np\n",
    "import matplotlib.pyplot as plt\n",
    "\n",
    "# 최적K 찾기\n",
    "Ks = 10\n",
    "mean_acc = np.zeros((Ks - 1))\n",
    "std_acc = np.zeros((Ks - 1))\n",
    "\n",
    "for n in range(1, Ks):\n",
    "    # Train Model and Predict\n",
    "    clf = KNeighborsClassifier(n_neighbors=n).fit(X_train, y_train)\n",
    "    yhat = clf.predict(X_test)\n",
    "    mean_acc[n - 1] = accuracy_score(y_test, yhat)    \n",
    "\n",
    "print(mean_acc)\n",
    "\n",
    "# 시각화\n",
    "plt.plot(range(1,Ks),mean_acc,'g')\n",
    "plt.ylabel('Accuracy ')\n",
    "plt.xlabel('Number of Neighbors (K)')\n",
    "plt.tight_layout()\n",
    "plt.show()"
   ]
  },
  {
   "cell_type": "markdown",
   "metadata": {},
   "source": [
    "- 1~2 구간에서 증가하는 추세를 보이다가 2 이후부터는 같다.\n",
    "- 따라서 최적의 k값은 2이다."
   ]
  },
  {
   "cell_type": "markdown",
   "metadata": {},
   "source": [
    "### 4.3. 분류 경계 시각화"
   ]
  },
  {
   "cell_type": "code",
   "execution_count": 15,
   "metadata": {},
   "outputs": [
    {
     "data": {
      "image/png": "[encoded data removed]",
      "text/plain": [
       "<Figure size 800x600 with 1 Axes>"
      ]
     },
     "metadata": {},
     "output_type": "display_data"
    }
   ],
   "source": [
    "# 시각화를 위한 패키지\n",
    "from matplotlib import pyplot as plt\n",
    "from matplotlib.colors import ListedColormap\n",
    "import seaborn as sns\n",
    "from sklearn import neighbors, datasets\n",
    "import numpy as np\n",
    " \n",
    "# K-최근접이웃 분류의 시각화를 좌표평면에 하기 위해서는 예측변수를 2개까지만 사용할 수 있음\n",
    "# sepal length (cm)와 sepal width (cm)의 값만 뽑아 2차 배열로 변환\n",
    "predictors = iris['feature_names']\n",
    "X2 = np.array(df[predictors[0:2]])\n",
    " \n",
    "# color map 설정\n",
    "cmap_light = ListedColormap(['orange', 'cyan','cornflowerblue'])\n",
    "cmap_bold = ['darkorange', 'c', 'darkblue']\n",
    " \n",
    "# 앞서 정확도가 가장 높았던 파라미터를 입력함\n",
    "neigh2 = neighbors.KNeighborsClassifier(n_neighbors=3, weights='distance', p=2)\n",
    "neigh2.fit(X2, y)\n",
    " \n",
    "# 분류 경계를 색으로 구분하기 위한 작업\n",
    "h = .02  # step size in the mesh\n",
    "x_min, x_max = X2[:, 0].min() - 1, X2[:, 0].max() + 1\n",
    "y_min, y_max = X2[:, 1].min() - 1, X2[:, 1].max() + 1\n",
    "xx, yy = np.meshgrid(np.arange(x_min, x_max, h),\n",
    "                         np.arange(y_min, y_max, h))\n",
    "Z = neigh2.predict(np.c_[xx.ravel(), yy.ravel()])\n",
    "Z = Z.reshape(xx.shape)\n",
    " \n",
    "# 그래프 사이즈 설정\n",
    "plt.figure(figsize=(8, 6))\n",
    " \n",
    "# 분류 경계 별 색칠하기\n",
    "plt.contourf(xx, yy, Z, cmap=cmap_light)\n",
    " \n",
    "# 각 훈련값의 좌표들을 그린 산점도\n",
    "sns.scatterplot(x=X2[:, 0], y=X2[:, 1], hue=iris.target_names[y],\n",
    "                    palette=cmap_bold, alpha=1.0, edgecolor=\"black\")\n",
    " \n",
    "# 제목에 KNN 분류 파라미터와 표준 정확도 표기\n",
    "plt.title(\"3-Class classification (k=3, distance), mean accuracy=%0.2f\" %neigh2.score(X2, y))\n",
    "plt.xlabel(predictors[0])\n",
    "plt.ylabel(predictors[1])\n",
    " \n",
    "plt.show()\n"
   ]
  }
 ],
 "metadata": {
  "kernelspec": {
   "display_name": "Python 3.8.13 ('cabta')",
   "language": "python",
   "name": "python3"
  },
  "language_info": {
   "codemirror_mode": {
    "name": "ipython",
    "version": 3
   },
   "file_extension": ".py",
   "mimetype": "text/x-python",
   "name": "python",
   "nbconvert_exporter": "python",
   "pygments_lexer": "ipython3",
   "version": "3.8.13"
  },
  "orig_nbformat": 4,
  "vscode": {
   "interpreter": {
    "hash": "a063b7be1b1d22be0fca1b26cf478769b2ebdd8896aff1eef11b858cbacfa39b"
   }
  }
 },
 "nbformat": 4,
 "nbformat_minor": 2
}
